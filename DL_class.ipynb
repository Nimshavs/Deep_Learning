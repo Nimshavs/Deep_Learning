{
  "nbformat": 4,
  "nbformat_minor": 0,
  "metadata": {
    "colab": {
      "provenance": [],
      "gpuType": "T4",
      "authorship_tag": "ABX9TyOLlgVh7PUYs69Pk+onhFbR",
      "include_colab_link": true
    },
    "kernelspec": {
      "name": "python3",
      "display_name": "Python 3"
    },
    "language_info": {
      "name": "python"
    },
    "accelerator": "GPU"
  },
  "cells": [
    {
      "cell_type": "markdown",
      "metadata": {
        "id": "view-in-github",
        "colab_type": "text"
      },
      "source": [
        "<a href=\"https://colab.research.google.com/github/Nimshavs/Deep_Learning/blob/main/DL_class.ipynb\" target=\"_parent\"><img src=\"https://colab.research.google.com/assets/colab-badge.svg\" alt=\"Open In Colab\"/></a>"
      ]
    },
    {
      "cell_type": "code",
      "execution_count": 1,
      "metadata": {
        "id": "iRFOqfymgvBk"
      },
      "outputs": [],
      "source": [
        "import numpy as np\n",
        "import tensorflow.compat.v1 as tf\n",
        "from tensorflow.keras import layers\n"
      ]
    },
    {
      "cell_type": "code",
      "source": [
        "b = tf.Variable(tf.zeros((100,)))\n",
        "W = tf.Variable(tf.random_uniform((784, 100), -1, 1))\n",
        "\n",
        "x = tf.placeholder(tf.float32, (None, 784))\n",
        "h_i = tf.nn.relu(tf.matmul(x, W) + b)\n",
        "\n",
        "sess = tf.Session()\n",
        "sess.run(tf.global_variables_initializer())\n",
        "result = sess.run(h_i, feed_dict={x: np.random.random((64, 784))})\n",
        "print(result)"
      ],
      "metadata": {
        "colab": {
          "base_uri": "https://localhost:8080/"
        },
        "id": "nugXXahwg2Ty",
        "outputId": "e2d12282-8762-4f5e-a0b2-4958a75db4b3"
      },
      "execution_count": null,
      "outputs": [
        {
          "output_type": "stream",
          "name": "stdout",
          "text": [
            "[[13.519747    0.          0.         ...  0.          0.\n",
            "   0.        ]\n",
            " [11.005202    6.768402    0.         ...  8.042045    8.344901\n",
            "   1.3845048 ]\n",
            " [ 5.220478    0.          0.         ...  0.46053123  0.\n",
            "   0.        ]\n",
            " ...\n",
            " [ 2.7969084   0.          0.         ...  7.8750296   8.212202\n",
            "   1.3304086 ]\n",
            " [16.5697      0.90800047  0.         ...  0.          4.303749\n",
            "   4.8047953 ]\n",
            " [ 5.407429    0.          0.         ...  8.351755    0.\n",
            "   3.434227  ]]\n"
          ]
        }
      ]
    },
    {
      "cell_type": "code",
      "source": [
        "# constant\n",
        "\n",
        "a = tf.constant(2.0,tf.float32)\n",
        "b = tf.constant(3.0)\n",
        "print(a,b)"
      ],
      "metadata": {
        "colab": {
          "base_uri": "https://localhost:8080/"
        },
        "id": "S9exX4j2ig13",
        "outputId": "b86d267a-4570-49c1-e772-f5668aed7bc2"
      },
      "execution_count": null,
      "outputs": [
        {
          "output_type": "stream",
          "name": "stdout",
          "text": [
            "Tensor(\"Const:0\", shape=(), dtype=float32) Tensor(\"Const_1:0\", shape=(), dtype=float32)\n"
          ]
        }
      ]
    },
    {
      "cell_type": "code",
      "source": [
        "# placeholder\n",
        "\n",
        "a = tf.placeholder(tf.float32)\n",
        "b = a*2\n",
        "\n",
        "with tf.Session() as sess:\n",
        "  result = sess.run(b,feed_dict={a:3.0})\n",
        "print(result)"
      ],
      "metadata": {
        "colab": {
          "base_uri": "https://localhost:8080/"
        },
        "id": "l1yzfnzAj7kP",
        "outputId": "e93dd9b2-b56b-42d4-a7f8-b0a0e2712c50"
      },
      "execution_count": null,
      "outputs": [
        {
          "output_type": "stream",
          "name": "stdout",
          "text": [
            "6.0\n"
          ]
        }
      ]
    },
    {
      "cell_type": "code",
      "source": [
        "# variable\n",
        "\n",
        "W = tf.Variable([.3],dtype=tf.float32)\n",
        "b = tf.Variable([-.3],dtype=tf.float32)\n",
        "\n",
        "x = tf.placeholder(tf.float32)\n",
        "linear_model = W*x+b\n",
        "print(linear_model)"
      ],
      "metadata": {
        "colab": {
          "base_uri": "https://localhost:8080/"
        },
        "id": "IxIafNV7ktrR",
        "outputId": "0dc4e378-c179-4936-869d-bc58b10ce277"
      },
      "execution_count": null,
      "outputs": [
        {
          "output_type": "stream",
          "name": "stdout",
          "text": [
            "Tensor(\"add_1:0\", dtype=float32)\n"
          ]
        }
      ]
    },
    {
      "cell_type": "code",
      "source": [
        "# session\n",
        "\n",
        "a = tf.constant(5.0)\n",
        "b = tf.constant(3.0)\n",
        "c = a*b\n",
        "\n",
        "sess = tf.Session()\n",
        "print(sess.run(c))"
      ],
      "metadata": {
        "colab": {
          "base_uri": "https://localhost:8080/"
        },
        "id": "-fUUi_9ynqWR",
        "outputId": "e8c3e741-2b5e-4504-b0b9-8919043c14f6"
      },
      "execution_count": null,
      "outputs": [
        {
          "output_type": "stream",
          "name": "stdout",
          "text": [
            "15.0\n"
          ]
        }
      ]
    },
    {
      "cell_type": "code",
      "source": [
        "# basics\n",
        "\n",
        "hello = tf.constant('Hello')\n",
        "type(hello)"
      ],
      "metadata": {
        "colab": {
          "base_uri": "https://localhost:8080/"
        },
        "id": "pnK_v6DcoNBd",
        "outputId": "55dfb9a4-9d0a-4a9f-d1d7-3957a22e1ec3"
      },
      "execution_count": null,
      "outputs": [
        {
          "output_type": "execute_result",
          "data": {
            "text/plain": [
              "tensorflow.python.framework.ops.SymbolicTensor"
            ]
          },
          "metadata": {},
          "execution_count": 20
        }
      ]
    },
    {
      "cell_type": "code",
      "source": [
        "world  = tf.constant('World')\n",
        "result = hello + world\n",
        "result"
      ],
      "metadata": {
        "colab": {
          "base_uri": "https://localhost:8080/"
        },
        "id": "6Xrak6o_oytM",
        "outputId": "7db6b074-fa52-481c-dc8c-bed620fb42fd"
      },
      "execution_count": null,
      "outputs": [
        {
          "output_type": "execute_result",
          "data": {
            "text/plain": [
              "<tf.Tensor 'add_4:0' shape=() dtype=string>"
            ]
          },
          "metadata": {},
          "execution_count": 22
        }
      ]
    },
    {
      "cell_type": "code",
      "source": [
        "type(result)"
      ],
      "metadata": {
        "colab": {
          "base_uri": "https://localhost:8080/"
        },
        "id": "AC3l1NKco8EX",
        "outputId": "69573936-a323-42ec-b67a-330a5b869971"
      },
      "execution_count": null,
      "outputs": [
        {
          "output_type": "execute_result",
          "data": {
            "text/plain": [
              "tensorflow.python.framework.ops.SymbolicTensor"
            ]
          },
          "metadata": {},
          "execution_count": 23
        }
      ]
    },
    {
      "cell_type": "code",
      "source": [
        "with tf.Session() as sess:\n",
        "  result = sess.run(hello+world)\n",
        "result"
      ],
      "metadata": {
        "colab": {
          "base_uri": "https://localhost:8080/"
        },
        "id": "8m2BcXQEpDhS",
        "outputId": "52ce1ff9-0d08-4564-d6c1-127de902d39b"
      },
      "execution_count": null,
      "outputs": [
        {
          "output_type": "execute_result",
          "data": {
            "text/plain": [
              "b'HelloWorld'"
            ]
          },
          "metadata": {},
          "execution_count": 24
        }
      ]
    },
    {
      "cell_type": "code",
      "source": [
        "## Properties of tensor\n",
        "\n",
        "r = tf.constant(1.123,tf.float32)\n",
        "print(r)\n",
        "r_1 = tf.constant(\"Java\",tf.string)\n",
        "print(r_1)"
      ],
      "metadata": {
        "id": "1Wtyz1nVqHC_",
        "colab": {
          "base_uri": "https://localhost:8080/"
        },
        "outputId": "c5db2004-15b7-4cd1-bca3-b0e931a55465"
      },
      "execution_count": null,
      "outputs": [
        {
          "output_type": "stream",
          "name": "stdout",
          "text": [
            "Tensor(\"Const:0\", shape=(), dtype=float32)\n",
            "Tensor(\"Const_1:0\", shape=(), dtype=string)\n"
          ]
        }
      ]
    },
    {
      "cell_type": "code",
      "source": [
        "# create one dimension tensor\n",
        "r = tf.constant([1,2,3],tf.int32)\n",
        "print(r)\n",
        "s = tf.constant([True,False,True],tf.bool)\n",
        "print(s)"
      ],
      "metadata": {
        "colab": {
          "base_uri": "https://localhost:8080/"
        },
        "id": "1cRFw1TbMd6X",
        "outputId": "38aa960f-4624-441d-8c12-180fd26c642f"
      },
      "execution_count": null,
      "outputs": [
        {
          "output_type": "stream",
          "name": "stdout",
          "text": [
            "Tensor(\"Const_4:0\", shape=(3,), dtype=int32)\n",
            "Tensor(\"Const_5:0\", shape=(3,), dtype=bool)\n"
          ]
        }
      ]
    },
    {
      "cell_type": "code",
      "source": [
        "# create one dimension tensor\n",
        "r = tf.constant([[1,2],[3,4]],tf.int32)\n",
        "print(r)"
      ],
      "metadata": {
        "colab": {
          "base_uri": "https://localhost:8080/"
        },
        "id": "I1i7MKtwOJcv",
        "outputId": "9ced3185-8027-4312-ac76-dd4f0cff423e"
      },
      "execution_count": null,
      "outputs": [
        {
          "output_type": "stream",
          "name": "stdout",
          "text": [
            "Tensor(\"Const_6:0\", shape=(2, 2), dtype=int32)\n"
          ]
        }
      ]
    },
    {
      "cell_type": "code",
      "source": [
        "r = tf.constant([[1,2],[4,5],[6,10]])\n",
        "r_1 = tf.shape(r)\n",
        "print(r)\n"
      ],
      "metadata": {
        "colab": {
          "base_uri": "https://localhost:8080/"
        },
        "id": "e5AfpCJJOhEi",
        "outputId": "2443a046-764f-48d5-ee25-b410984ba06e"
      },
      "execution_count": null,
      "outputs": [
        {
          "output_type": "stream",
          "name": "stdout",
          "text": [
            "Tensor(\"Const_15:0\", shape=(3, 2), dtype=int32)\n"
          ]
        }
      ]
    },
    {
      "cell_type": "code",
      "source": [
        "# change the data type\n",
        "\n",
        "\n",
        "type_float = tf.constant(3.123456788, tf.float32)\n",
        "type_int = tf.cast(type_float, dtype=tf.int32)\n",
        "\n",
        "print(type_int.dtype)\n",
        "print(type_float.dtype)\n"
      ],
      "metadata": {
        "colab": {
          "base_uri": "https://localhost:8080/"
        },
        "id": "-2pnzF79PSFT",
        "outputId": "64fe1a47-940f-41d8-8f66-c9534fb12dce"
      },
      "execution_count": null,
      "outputs": [
        {
          "output_type": "stream",
          "name": "stdout",
          "text": [
            "<dtype: 'int32'>\n",
            "<dtype: 'float32'>\n"
          ]
        }
      ]
    },
    {
      "cell_type": "code",
      "source": [
        "var  = tf.get_variable(\"var\",[1,2])\n",
        "print(var.shape)"
      ],
      "metadata": {
        "colab": {
          "base_uri": "https://localhost:8080/"
        },
        "id": "-US_r_PlQ6b6",
        "outputId": "027b8439-e676-4981-d437-0bc072429745"
      },
      "execution_count": null,
      "outputs": [
        {
          "output_type": "stream",
          "name": "stdout",
          "text": [
            "(1, 2)\n"
          ]
        }
      ]
    },
    {
      "cell_type": "code",
      "source": [
        "x= tf.constant([2])\n",
        "y= tf.constant([2])\n",
        "multiply = tf.multiply(x,y)\n",
        "sess= tf.Session()\n",
        "result_1=sess.run(multiply)\n",
        "print(result_1)\n",
        "sess.close()\n"
      ],
      "metadata": {
        "colab": {
          "base_uri": "https://localhost:8080/"
        },
        "id": "pKRnFPkT418o",
        "outputId": "b92fb1fc-599a-4f32-b398-fddaf6610ff3"
      },
      "execution_count": null,
      "outputs": [
        {
          "output_type": "stream",
          "name": "stdout",
          "text": [
            "[4]\n"
          ]
        }
      ]
    },
    {
      "cell_type": "code",
      "source": [
        "import numpy as np\n",
        "data_placeholder_a = tf.placeholder(tf.float32, name = \"data_placeholder_a\")\n",
        "power_a = tf.pow(data_placeholder_a, 3)\n",
        "with tf.Session() as sess:\n",
        "  data = np.random.rand(1, 11)\n",
        "  print(sess.run(power_a, feed_dict={data_placeholder_a:data}))\n"
      ],
      "metadata": {
        "colab": {
          "base_uri": "https://localhost:8080/"
        },
        "id": "9yqR-OXI6nNE",
        "outputId": "66b1ca37-6407-49a1-ac84-f5f2a16eafb3"
      },
      "execution_count": null,
      "outputs": [
        {
          "output_type": "stream",
          "name": "stdout",
          "text": [
            "[[1.30341187e-01 8.96169096e-02 2.46663997e-03 3.93863648e-01\n",
            "  2.26837248e-01 4.60710466e-01 5.32131456e-02 2.65367824e-04\n",
            "  8.38633239e-01 7.34023601e-02 1.09135844e-01]]\n"
          ]
        }
      ]
    },
    {
      "cell_type": "code",
      "source": [
        "x = tf.get_variable(\"x\", dtype=tf.int32,  initializer=tf.constant([5]))\n",
        "z = tf.get_variable(\"z\", dtype=tf.int32,  initializer=tf.constant([6]))\n",
        "c = tf.constant([5], name =\"constant\")\n",
        "square = tf.constant([2], name =\"square\")\n",
        "f = tf.multiply(x, y) + tf.pow(x, square) + y + c\n"
      ],
      "metadata": {
        "id": "ihO9o42M69as"
      },
      "execution_count": null,
      "outputs": []
    },
    {
      "cell_type": "code",
      "source": [
        "init = tf.global_variables_initializer()\n",
        "with tf.Session() as sess:\n",
        "  init.run() #Initialization of x and y\n",
        "  function_result = f.eval()\n",
        "  print (function_result)\n"
      ],
      "metadata": {
        "colab": {
          "base_uri": "https://localhost:8080/"
        },
        "id": "fvV1JpYY7zZi",
        "outputId": "cd90f383-b7a3-435a-a8c9-942596554ec2"
      },
      "execution_count": null,
      "outputs": [
        {
          "output_type": "stream",
          "name": "stdout",
          "text": [
            "[42]\n"
          ]
        }
      ]
    },
    {
      "cell_type": "code",
      "source": [
        "# tensor flow pipeline\n",
        "\n",
        "import numpy as np\n",
        "x_input = np.random.sample((1,2))\n",
        "print(x_input)\n",
        "x = tf.placeholder(tf.float32, shape=[1,2], name = 'X')\n",
        "tf.data.Dataset.from_tensor_slices\n",
        "dataset = tf.data.Dataset.from_tensor_slices(x)\n",
        "iterator = dataset.make_initializable_iterator()\n",
        "get_next = iterator.get_next()\n",
        "with tf.Session() as sess:\n",
        " # Feed the placeholder into data.\n",
        "  sess.run (iterator.initializer, feed_dict={ x: x_input })\n",
        "  print(sess.run(get_next))\n"
      ],
      "metadata": {
        "colab": {
          "base_uri": "https://localhost:8080/"
        },
        "id": "71g5J4s079be",
        "outputId": "dd5c5eb4-9e08-4b3d-badf-3a0595996f2b"
      },
      "execution_count": null,
      "outputs": [
        {
          "output_type": "stream",
          "name": "stdout",
          "text": [
            "[[0.36636706 0.37719058]]\n",
            "[0.36636704 0.3771906 ]\n"
          ]
        }
      ]
    },
    {
      "cell_type": "code",
      "source": [],
      "metadata": {
        "id": "ylwiypcC8GD8"
      },
      "execution_count": null,
      "outputs": []
    },
    {
      "cell_type": "code",
      "source": [
        "\n",
        "X_train = np.random.sample((10000, 5))\n",
        "y_train = np.random.sample((10000, 1))\n",
        "\n",
        "feature_columns = [tf.feature_column.numeric_column('x', shape=X_train.shape[1:])]\n",
        "\n",
        "# Create a feature layer\n",
        "feature_layer = tf.keras.layers.DenseFeatures(feature_columns)\n",
        "\n",
        "model = tf.keras.Sequential([\n",
        "    feature_layer,\n",
        "    tf.keras.layers.Dense(500, activation='relu'),\n",
        "    tf.keras.layers.Dense(300, activation='relu'),\n",
        "    tf.keras.layers.Dense(1)\n",
        "])\n",
        "\n",
        "model.compile(\n",
        "    optimizer=tf.keras.optimizers.Ftrl(\n",
        "        learning_rate=0.1,\n",
        "        l1_regularization_strength=0.001\n",
        "    ),\n",
        "    loss='mse'\n",
        ")\n",
        "\n",
        "# Use the feature layer on X_train\n",
        "X_train_dict = {'x': X_train}\n",
        "\n",
        "model.fit(X_train_dict, y_train, epochs=5)"
      ],
      "metadata": {
        "id": "UDelGSxP9UE-",
        "colab": {
          "base_uri": "https://localhost:8080/"
        },
        "outputId": "fbf05d93-a563-466b-f326-e6e38a809bee"
      },
      "execution_count": null,
      "outputs": [
        {
          "output_type": "stream",
          "name": "stderr",
          "text": [
            "WARNING:tensorflow:From /usr/local/lib/python3.10/dist-packages/keras/src/optimizers/legacy/ftrl.py:173: calling Constant.__init__ (from tensorflow.python.ops.init_ops) with dtype is deprecated and will be removed in a future version.\n",
            "Instructions for updating:\n",
            "Call initializer instance with the dtype argument instead of passing it to the constructor\n"
          ]
        },
        {
          "output_type": "stream",
          "name": "stdout",
          "text": [
            "Train on 10000 samples\n",
            "Epoch 1/5\n",
            "10000/10000 [==============================] - 2s 198us/sample - loss: 0.0860\n",
            "Epoch 2/5\n",
            "10000/10000 [==============================] - 1s 100us/sample - loss: 0.0835\n",
            "Epoch 3/5\n",
            "10000/10000 [==============================] - 1s 100us/sample - loss: 0.0834\n",
            "Epoch 4/5\n",
            "10000/10000 [==============================] - 1s 83us/sample - loss: 0.0833\n",
            "Epoch 5/5\n",
            "10000/10000 [==============================] - 1s 71us/sample - loss: 0.0833\n"
          ]
        },
        {
          "output_type": "execute_result",
          "data": {
            "text/plain": [
              "<keras.src.callbacks.History at 0x7e8f316006d0>"
            ]
          },
          "metadata": {},
          "execution_count": 13
        }
      ]
    },
    {
      "cell_type": "code",
      "source": [],
      "metadata": {
        "id": "LhdkoR2kL93b"
      },
      "execution_count": null,
      "outputs": []
    }
  ]
}